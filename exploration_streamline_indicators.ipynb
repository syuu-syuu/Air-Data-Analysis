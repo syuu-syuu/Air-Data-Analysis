{
 "cells": [
  {
   "cell_type": "code",
   "execution_count": 1,
   "metadata": {},
   "outputs": [],
   "source": [
    "import pandas as pd\n",
    "import numpy as np\n",
    "import matplotlib.pyplot as plt\n",
    "import math\n",
    "import glob\n",
    "import os"
   ]
  },
  {
   "cell_type": "code",
   "execution_count": 2,
   "metadata": {},
   "outputs": [],
   "source": [
    "csv_files = glob.glob('./selected_indicators/*_raw.csv')\n",
    "\n",
    "main_folder = 'generated_plots'\n",
    "os.makedirs(main_folder, exist_ok=True)"
   ]
  },
  {
   "cell_type": "code",
   "execution_count": 3,
   "metadata": {},
   "outputs": [],
   "source": [
    "for file in csv_files:\n",
    "    df = pd.read_csv(file)\n",
    "    df_new = (\n",
    "        df.drop(['code', 'iso'], axis=1)\n",
    "        .set_index(['country']).rename_axis([None])\n",
    "        .T.reset_index()  # Transpose the original dataset\n",
    "        .assign(index=lambda x: x['index'].str[-4:])\n",
    "        .set_index('index')\n",
    "        .rename_axis(None)\n",
    "        .replace(-8888, np.nan)\n",
    "    )\n",
    "\n",
    "    df_long = (df_new.reset_index()\n",
    "               .melt(id_vars='index', var_name='country', value_name='value')\n",
    "               .astype({'index': 'float64'}))\n",
    "\n",
    "    folder_name = os.path.splitext(os.path.basename(file))[0]\n",
    "    sub_folder = os.path.join(main_folder, folder_name)\n",
    "    os.makedirs(sub_folder, exist_ok=True)\n",
    "\n",
    "    rows = 4\n",
    "    cols = 4\n",
    "    num_plots = rows * cols\n",
    "    num_pages = math.ceil(len(df_long['country'].unique()) / num_plots)\n",
    "\n",
    "    for page in range(num_pages):\n",
    "        fig, axes = plt.subplots(rows, cols, figsize=(\n",
    "            15, 15), sharex=True, sharey=True)\n",
    "        axes = axes.flatten()\n",
    "\n",
    "        for idx, (country, data) in enumerate(df_long.groupby(\"country\")):\n",
    "            if page * num_plots <= idx < (page + 1) * num_plots:\n",
    "                ax = axes[idx % num_plots]\n",
    "                ax.scatter(data[\"index\"], data[\"value\"],\n",
    "                           marker=\"o\", label=country)\n",
    "                ax.set_title(country)\n",
    "                ax.set_xlabel(\"Year\")\n",
    "                ax.set_ylabel(\"Score\")\n",
    "\n",
    "        for i in range(idx % num_plots + 1, num_plots):\n",
    "            fig.delaxes(axes[i])\n",
    "\n",
    "        fig.tight_layout()\n",
    "\n",
    "        plt.savefig(f\"{sub_folder}/{page + 1}.png\")\n",
    "        plt.close(fig)"
   ]
  }
 ],
 "metadata": {
  "kernelspec": {
   "display_name": "base",
   "language": "python",
   "name": "python3"
  },
  "language_info": {
   "codemirror_mode": {
    "name": "ipython",
    "version": 3
   },
   "file_extension": ".py",
   "mimetype": "text/x-python",
   "name": "python",
   "nbconvert_exporter": "python",
   "pygments_lexer": "ipython3",
   "version": "3.10.9"
  },
  "orig_nbformat": 4
 },
 "nbformat": 4,
 "nbformat_minor": 2
}
